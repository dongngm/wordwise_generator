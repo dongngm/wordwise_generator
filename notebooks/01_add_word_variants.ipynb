{
 "cells": [
  {
   "cell_type": "markdown",
   "id": "c8edf8f0",
   "metadata": {},
   "source": [
    "- The original word-wise dict does not include variants of a word\n",
    "- Example: `valley` -> can be looked-up but `valleys` -> cannot\n",
    "- Solution: \n",
    "    - Can use spacy to lemmatize each word and look up in the dict. `valleys` --<lemmatized>--> `valley`\n",
    "    - But it's slow, a book may contains hundreds thousands of words\n",
    "    - So I add variants of words in the dict beforehand"
   ]
  },
  {
   "cell_type": "code",
   "execution_count": null,
   "id": "597a342b",
   "metadata": {},
   "outputs": [],
   "source": [
    "import pandas as pd\n",
    "import numpy as np\n",
    "import spacy\n",
    "import pickle\n",
    "from tqdm import tqdm"
   ]
  },
  {
   "cell_type": "code",
   "execution_count": 3,
   "id": "d795ca7d",
   "metadata": {},
   "outputs": [],
   "source": [
    "# load spacy\n",
    "with open(\"../data/en_core_web_sm.pkl\", \"rb\") as f:\n",
    "    sp = pickle.load(f)"
   ]
  },
  {
   "cell_type": "code",
   "execution_count": 129,
   "id": "7c744205",
   "metadata": {},
   "outputs": [],
   "source": [
    "# Load ww dict file with no word variants\n",
    "df00_wwdict = (\n",
    "    pd.read_csv(\"../data/vi_novar.csv\", dtype=object)\n",
    "    .dropna(subset=[\"word\"])\n",
    "    .drop_duplicates(subset=[\"word\"])\n",
    ")"
   ]
  },
  {
   "cell_type": "code",
   "execution_count": 117,
   "id": "736cc14a",
   "metadata": {},
   "outputs": [
    {
     "data": {
      "text/html": [
       "<div>\n",
       "<style scoped>\n",
       "    .dataframe tbody tr th:only-of-type {\n",
       "        vertical-align: middle;\n",
       "    }\n",
       "\n",
       "    .dataframe tbody tr th {\n",
       "        vertical-align: top;\n",
       "    }\n",
       "\n",
       "    .dataframe thead th {\n",
       "        text-align: right;\n",
       "    }\n",
       "</style>\n",
       "<table border=\"1\" class=\"dataframe\">\n",
       "  <thead>\n",
       "    <tr style=\"text-align: right;\">\n",
       "      <th></th>\n",
       "      <th>id</th>\n",
       "      <th>word</th>\n",
       "      <th>full_def</th>\n",
       "      <th>short_def</th>\n",
       "      <th>example_sentence</th>\n",
       "      <th>hint_level</th>\n",
       "    </tr>\n",
       "  </thead>\n",
       "  <tbody>\n",
       "    <tr>\n",
       "      <th>0</th>\n",
       "      <td>39438</td>\n",
       "      <td>from A to Z</td>\n",
       "      <td>including everything</td>\n",
       "      <td>từ A đến Z</td>\n",
       "      <td>The book is titled `Home Repairs From A to Z.`</td>\n",
       "      <td>1</td>\n",
       "    </tr>\n",
       "    <tr>\n",
       "      <th>1</th>\n",
       "      <td>30988</td>\n",
       "      <td>from (point) A to (point) B</td>\n",
       "      <td>from one place to another</td>\n",
       "      <td>từ (điểm) A đến (điểm) B</td>\n",
       "      <td>I don't care about the scenery. I'm only inter...</td>\n",
       "      <td>1</td>\n",
       "    </tr>\n",
       "    <tr>\n",
       "      <th>2</th>\n",
       "      <td>30749</td>\n",
       "      <td>aardvark</td>\n",
       "      <td>a large African animal that has a long nose an...</td>\n",
       "      <td>lợn đất</td>\n",
       "      <td>NaN</td>\n",
       "      <td>2</td>\n",
       "    </tr>\n",
       "    <tr>\n",
       "      <th>3</th>\n",
       "      <td>13279</td>\n",
       "      <td>abacus</td>\n",
       "      <td>a device used for counting and calculating by ...</td>\n",
       "      <td>bàn tính</td>\n",
       "      <td>NaN</td>\n",
       "      <td>2</td>\n",
       "    </tr>\n",
       "    <tr>\n",
       "      <th>4</th>\n",
       "      <td>30998</td>\n",
       "      <td>abalone</td>\n",
       "      <td>a type of shellfish that is eaten as food and ...</td>\n",
       "      <td>bào ngư</td>\n",
       "      <td>NaN</td>\n",
       "      <td>1</td>\n",
       "    </tr>\n",
       "  </tbody>\n",
       "</table>\n",
       "</div>"
      ],
      "text/plain": [
       "      id                         word  \\\n",
       "0  39438                  from A to Z   \n",
       "1  30988  from (point) A to (point) B   \n",
       "2  30749                     aardvark   \n",
       "3  13279                       abacus   \n",
       "4  30998                      abalone   \n",
       "\n",
       "                                            full_def  \\\n",
       "0                               including everything   \n",
       "1                          from one place to another   \n",
       "2  a large African animal that has a long nose an...   \n",
       "3  a device used for counting and calculating by ...   \n",
       "4  a type of shellfish that is eaten as food and ...   \n",
       "\n",
       "                  short_def  \\\n",
       "0                từ A đến Z   \n",
       "1  từ (điểm) A đến (điểm) B   \n",
       "2                   lợn đất   \n",
       "3                  bàn tính   \n",
       "4                   bào ngư   \n",
       "\n",
       "                                    example_sentence hint_level  \n",
       "0     The book is titled `Home Repairs From A to Z.`          1  \n",
       "1  I don't care about the scenery. I'm only inter...          1  \n",
       "2                                                NaN          2  \n",
       "3                                                NaN          2  \n",
       "4                                                NaN          1  "
      ]
     },
     "execution_count": 117,
     "metadata": {},
     "output_type": "execute_result"
    }
   ],
   "source": [
    "df00_wwdict.head()"
   ]
  },
  {
   "cell_type": "code",
   "execution_count": 133,
   "id": "07701982",
   "metadata": {},
   "outputs": [
    {
     "name": "stdout",
     "output_type": "stream",
     "text": [
      "55698\n"
     ]
    }
   ],
   "source": [
    "wwdict_novar00 = df00_wwdict.set_index(\"word\").to_dict(orient=\"index\")\n",
    "print(len(wwdict_novar00))"
   ]
  },
  {
   "cell_type": "code",
   "execution_count": 34,
   "id": "5f91346e",
   "metadata": {},
   "outputs": [],
   "source": [
    "# Load mega file 460K words from google books\n",
    "# https://github.com/possibly-wrong/word-frequency\n",
    "df01_wfreq = (pd.read_csv(\"../data/word-frequency.txt\", sep=\"\\t\", names=[\"word\", \"unknown\", \"freq\"])\n",
    "    .dropna(subset=[\"word\"])\n",
    ")"
   ]
  },
  {
   "cell_type": "code",
   "execution_count": 35,
   "id": "0d3fc8dd",
   "metadata": {},
   "outputs": [
    {
     "data": {
      "text/html": [
       "<div>\n",
       "<style scoped>\n",
       "    .dataframe tbody tr th:only-of-type {\n",
       "        vertical-align: middle;\n",
       "    }\n",
       "\n",
       "    .dataframe tbody tr th {\n",
       "        vertical-align: top;\n",
       "    }\n",
       "\n",
       "    .dataframe thead th {\n",
       "        text-align: right;\n",
       "    }\n",
       "</style>\n",
       "<table border=\"1\" class=\"dataframe\">\n",
       "  <thead>\n",
       "    <tr style=\"text-align: right;\">\n",
       "      <th></th>\n",
       "      <th>word</th>\n",
       "      <th>unknown</th>\n",
       "      <th>freq</th>\n",
       "    </tr>\n",
       "  </thead>\n",
       "  <tbody>\n",
       "    <tr>\n",
       "      <th>0</th>\n",
       "      <td>the</td>\n",
       "      <td>26548583149</td>\n",
       "      <td>109892823605</td>\n",
       "    </tr>\n",
       "    <tr>\n",
       "      <th>1</th>\n",
       "      <td>of</td>\n",
       "      <td>15482969531</td>\n",
       "      <td>66814250204</td>\n",
       "    </tr>\n",
       "    <tr>\n",
       "      <th>2</th>\n",
       "      <td>and</td>\n",
       "      <td>11315969857</td>\n",
       "      <td>47936995099</td>\n",
       "    </tr>\n",
       "    <tr>\n",
       "      <th>3</th>\n",
       "      <td>to</td>\n",
       "      <td>9673642739</td>\n",
       "      <td>40339918761</td>\n",
       "    </tr>\n",
       "    <tr>\n",
       "      <th>4</th>\n",
       "      <td>in</td>\n",
       "      <td>8445476198</td>\n",
       "      <td>34866779823</td>\n",
       "    </tr>\n",
       "  </tbody>\n",
       "</table>\n",
       "</div>"
      ],
      "text/plain": [
       "  word      unknown          freq\n",
       "0  the  26548583149  109892823605\n",
       "1   of  15482969531   66814250204\n",
       "2  and  11315969857   47936995099\n",
       "3   to   9673642739   40339918761\n",
       "4   in   8445476198   34866779823"
      ]
     },
     "execution_count": 35,
     "metadata": {},
     "output_type": "execute_result"
    }
   ],
   "source": [
    "df01_wfreq.head()"
   ]
  },
  {
   "cell_type": "code",
   "execution_count": 36,
   "id": "8d568fa0",
   "metadata": {},
   "outputs": [
    {
     "name": "stdout",
     "output_type": "stream",
     "text": [
      "458341\n"
     ]
    }
   ],
   "source": [
    "words_var01 = df01_wfreq.word.values\n",
    "print(len(words_var01))"
   ]
  },
  {
   "cell_type": "code",
   "execution_count": 46,
   "id": "839a6c48",
   "metadata": {},
   "outputs": [
    {
     "name": "stdout",
     "output_type": "stream",
     "text": [
      "(407244, 8)\n"
     ]
    }
   ],
   "source": [
    "# words in df01 but missing from df00 are possibly\n",
    "#   - variants of words from df00 (set A)\n",
    "#   - new words that do not exist in df00 (set B)\n",
    "# For each word lemmatize it and check its existence in df00\n",
    "#   - if yes -> belong to set A\n",
    "#   - if no -> save them and process later (call gg API for translation)\n",
    "\n",
    "df02_in01_notin00 = pd.merge(df00_wwdict, df01_wfreq, on=\"word\", how=\"right\")\n",
    "df02_in01_notin00 = df02_in01_notin00[df02_in01_notin00.short_def.isnull()]\n",
    "print(df02_in01_notin00.shape)"
   ]
  },
  {
   "cell_type": "code",
   "execution_count": 151,
   "id": "a75cfd0d",
   "metadata": {},
   "outputs": [
    {
     "data": {
      "text/plain": [
       "0.50        2023.00\n",
       "0.75       21927.25\n",
       "0.80       40464.40\n",
       "0.90      212593.90\n",
       "0.95      956871.95\n",
       "0.99    29142203.21\n",
       "Name: freq, dtype: float64"
      ]
     },
     "execution_count": 151,
     "metadata": {},
     "output_type": "execute_result"
    }
   ],
   "source": [
    "df02_in01_notin00.freq.quantile([0.5, 0.75, 0.8, 0.9, 0.95, 0.99])"
   ]
  },
  {
   "cell_type": "code",
   "execution_count": 142,
   "id": "5ce01e56",
   "metadata": {},
   "outputs": [
    {
     "name": "stderr",
     "output_type": "stream",
     "text": [
      "100%|█████████████████████████████████████████████████████████████████████████| 407244/407244 [26:07<00:00, 259.74it/s]\n"
     ]
    }
   ],
   "source": [
    "words_in01_notin00 = df02_in01_notin00.word.values\n",
    "setA = {}\n",
    "setB = []\n",
    "#\n",
    "for word in tqdm(words_in01_notin00):\n",
    "    spw = sp(word)\n",
    "    if len(spw) != 1:\n",
    "        # skip this, spacy messing things up\n",
    "        continue\n",
    "    # \n",
    "    lemma = spw[0].lemma_\n",
    "    # \n",
    "    if lemma in wwdict_novar00:\n",
    "        setA[word] = wwdict_novar00[lemma]\n",
    "    else:\n",
    "        setB.append(word)"
   ]
  },
  {
   "cell_type": "code",
   "execution_count": 184,
   "id": "9590d33a",
   "metadata": {},
   "outputs": [],
   "source": [
    "# Process set A\n",
    "df03B_setA = pd.DataFrame(data=setA.values(), index=setA.keys()).reset_index().rename(columns={\"index\": \"word\"})\n",
    "df04_setA = pd.concat([df00_wwdict, df03B_setA])\n",
    "df04_setA.to_csv(\"../data/vi.csv\")"
   ]
  },
  {
   "cell_type": "code",
   "execution_count": 183,
   "id": "da1488a6",
   "metadata": {},
   "outputs": [],
   "source": [
    "# Process set B\n",
    "with open(\"../data/words_in01_notin00_lemma_notin00.pkl\", \"wb\") as f:\n",
    "    pickle.dump(setB, f)"
   ]
  },
  {
   "cell_type": "markdown",
   "id": "eb717433",
   "metadata": {},
   "source": [
    "## Manual data curation\n",
    "- `datum`: goole translate -> `mốc thời gian`, fixed to `dữ kiện`\n",
    "- `data`: fixed from `mốc thời gian` to `dữ liệu`"
   ]
  },
  {
   "cell_type": "code",
   "execution_count": null,
   "id": "7bac7011",
   "metadata": {},
   "outputs": [],
   "source": []
  }
 ],
 "metadata": {
  "kernelspec": {
   "display_name": "python_gui",
   "language": "python",
   "name": "python_gui"
  },
  "language_info": {
   "codemirror_mode": {
    "name": "ipython",
    "version": 3
   },
   "file_extension": ".py",
   "mimetype": "text/x-python",
   "name": "python",
   "nbconvert_exporter": "python",
   "pygments_lexer": "ipython3",
   "version": "3.10.10"
  }
 },
 "nbformat": 4,
 "nbformat_minor": 5
}
